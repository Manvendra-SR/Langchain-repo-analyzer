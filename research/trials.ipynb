{
 "cells": [
  {
   "cell_type": "code",
   "execution_count": 1,
   "id": "32de8ca0",
   "metadata": {},
   "outputs": [],
   "source": [
    "from git import Repo\n",
    "import os\n",
    "from dotenv import load_dotenv\n",
    "from langchain_community.document_loaders.generic import GenericLoader\n",
    "from langchain_community.document_loaders.parsers import LanguageParser\n",
    "from langchain_text_splitters import RecursiveCharacterTextSplitter\n",
    "from langchain_mistralai import MistralAIEmbeddings\n",
    "from langchain_chroma import Chroma\n",
    "from uuid import uuid4\n",
    "from langchain_mistralai.chat_models import ChatMistralAI\n",
    "from langchain_core.runnables import RunnableMap, RunnablePassthrough\n",
    "from langchain_core.output_parsers import StrOutputParser\n",
    "from langchain_core.prompts import ChatPromptTemplate, MessagesPlaceholder\n",
    "from langchain_core.messages import HumanMessage, AIMessage\n"
   ]
  },
  {
   "cell_type": "code",
   "execution_count": 16,
   "id": "4a431910",
   "metadata": {},
   "outputs": [
    {
     "data": {
      "text/plain": [
       "'c:\\\\Users\\\\manav\\\\OneDrive\\\\Desktop\\\\Source Code Analysis\\\\research'"
      ]
     },
     "execution_count": 16,
     "metadata": {},
     "output_type": "execute_result"
    }
   ],
   "source": [
    "%pwd"
   ]
  },
  {
   "cell_type": "code",
   "execution_count": 17,
   "id": "2ef0a442",
   "metadata": {},
   "outputs": [
    {
     "name": "stderr",
     "output_type": "stream",
     "text": [
      "A subdirectory or file test_repo already exists.\n"
     ]
    }
   ],
   "source": [
    "!mkdir test_repo"
   ]
  },
  {
   "cell_type": "code",
   "execution_count": 2,
   "id": "9c2d6e9f",
   "metadata": {},
   "outputs": [],
   "source": [
    "repo_path = \"test_repo/\"\n",
    "\n",
    "# repo = Repo.clone_from(\"https://github.com/entbappy/End-to-end-Medical-Chatbot-Generative-AI\", to_path=repo_path)"
   ]
  },
  {
   "cell_type": "code",
   "execution_count": 3,
   "id": "e8130f06",
   "metadata": {},
   "outputs": [],
   "source": [
    "loader = GenericLoader.from_filesystem(repo_path,\n",
    "                                        glob = \"**/*\",\n",
    "                                       suffixes=[\".py\"],\n",
    "                                       parser = LanguageParser(language=\"python\", parser_threshold=500)\n",
    ")"
   ]
  },
  {
   "cell_type": "code",
   "execution_count": 4,
   "id": "d4d6b54a",
   "metadata": {},
   "outputs": [],
   "source": [
    "documents = loader.load()"
   ]
  },
  {
   "cell_type": "code",
   "execution_count": 5,
   "id": "a235a5e6",
   "metadata": {},
   "outputs": [
    {
     "data": {
      "text/plain": [
       "7"
      ]
     },
     "execution_count": 5,
     "metadata": {},
     "output_type": "execute_result"
    }
   ],
   "source": [
    "len(documents)"
   ]
  },
  {
   "cell_type": "code",
   "execution_count": 5,
   "id": "40fb5202",
   "metadata": {},
   "outputs": [],
   "source": [
    "documents_splitter = RecursiveCharacterTextSplitter.from_language(language = \"python\",\n",
    "                                                             chunk_size = 500,\n",
    "                                                             chunk_overlap = 20)"
   ]
  },
  {
   "cell_type": "code",
   "execution_count": 6,
   "id": "2488d5a4",
   "metadata": {},
   "outputs": [],
   "source": [
    "texts = documents_splitter.split_documents(documents)"
   ]
  },
  {
   "cell_type": "code",
   "execution_count": 19,
   "id": "c6cc984a",
   "metadata": {},
   "outputs": [
    {
     "data": {
      "text/plain": [
       "True"
      ]
     },
     "execution_count": 19,
     "metadata": {},
     "output_type": "execute_result"
    }
   ],
   "source": [
    "load_dotenv()"
   ]
  },
  {
   "cell_type": "code",
   "execution_count": 8,
   "id": "ea8bb069",
   "metadata": {},
   "outputs": [],
   "source": [
    "embeddings = MistralAIEmbeddings(\n",
    "    model=\"mistral-embed\",\n",
    ")"
   ]
  },
  {
   "cell_type": "code",
   "execution_count": 9,
   "id": "714bd22c",
   "metadata": {},
   "outputs": [],
   "source": [
    "vector_store = Chroma(\n",
    "    collection_name=\"example_collection\",\n",
    "    embedding_function=embeddings,\n",
    "    persist_directory=\"./chroma_langchain_db\",\n",
    ")"
   ]
  },
  {
   "cell_type": "code",
   "execution_count": 10,
   "id": "83fa3761",
   "metadata": {},
   "outputs": [
    {
     "data": {
      "text/plain": [
       "['ec53288e-9a39-4413-b566-ad77923a1565',\n",
       " 'bc551c82-a6e2-4b9b-a950-5ec2e961957f',\n",
       " '901d663d-1ef1-42fd-bef2-a54890e4967e',\n",
       " 'c9eb8e47-75b9-4172-9f07-d4238e330e9e',\n",
       " '4614aa8a-dc9b-444e-88ec-14801cb73871',\n",
       " 'ebcd199d-e6fe-4948-9247-9e1b6c5f3f50',\n",
       " 'b00c102f-4c1f-4063-a008-62a66cdffaea',\n",
       " '3ea990d8-1723-476d-8bd0-10ab41feab8f',\n",
       " 'bc5155f7-42cd-45b3-81cd-a816608db4cc',\n",
       " '05c6d2d6-4828-43d4-b773-d4722ae4df8d',\n",
       " '19c9aeb7-27a1-4b55-bf54-c58faa3318f0',\n",
       " 'cb440bb5-0905-4d5d-ae13-93e541e5458f',\n",
       " 'd76ae44c-537c-4e12-8f30-a94f8892de96']"
      ]
     },
     "execution_count": 10,
     "metadata": {},
     "output_type": "execute_result"
    }
   ],
   "source": [
    "uuids = [str(uuid4()) for _ in range(len(texts))]\n",
    "\n",
    "vector_store.add_documents(documents=texts, ids=uuids)"
   ]
  },
  {
   "cell_type": "code",
   "execution_count": 11,
   "id": "8cacfbb8",
   "metadata": {},
   "outputs": [],
   "source": [
    "retriever = vector_store.as_retriever()"
   ]
  },
  {
   "cell_type": "code",
   "execution_count": 25,
   "id": "2aa1765e",
   "metadata": {},
   "outputs": [],
   "source": [
    "llm = ChatMistralAI(\n",
    "    model=\"mistral-large-latest\",\n",
    "    temperature=0.7,\n",
    "    max_retries=2,\n",
    "    # other params...\n",
    ")"
   ]
  },
  {
   "cell_type": "code",
   "execution_count": 26,
   "id": "f6a5a23b",
   "metadata": {},
   "outputs": [],
   "source": [
    "memory_store = []  # single global chat history list\n",
    "\n",
    "def load_history():\n",
    "    return memory_store\n",
    "\n",
    "def save_message(user_input, ai_output):\n",
    "    global memory_store\n",
    "    history = memory_store\n",
    "    history.extend([\n",
    "        HumanMessage(content=user_input),\n",
    "        AIMessage(content=ai_output)\n",
    "    ])\n",
    "    \n",
    "    # If too long, summarize older parts\n",
    "    if len(history) > 8:\n",
    "        summarized = summarize_history(history[:-4])\n",
    "        history = [AIMessage(content=f\"Summary of previous conversation: {summarized}\")] + history[-4:]\n",
    "    \n",
    "    memory_store = history\n",
    "\n",
    "\n",
    "def summarize_history(messages):\n",
    "    \"\"\"Summarize older parts of the chat to reduce token load.\"\"\"\n",
    "    summary_text = \"\\n\".join(\n",
    "        [f\"{m.type.upper()}: {m.content}\" for m in messages]\n",
    "    )\n",
    "    \n",
    "    summary_prompt = f\"\"\"\n",
    "    Summarize the following conversation in 3-4 concise bullet points\n",
    "    that capture all key facts and context needed to continue it later.\n",
    "\n",
    "    Conversation:\n",
    "    {summary_text}\n",
    "    \"\"\"\n",
    "\n",
    "    summary = llm.invoke(summary_prompt)\n",
    "    return summary.content.strip()\n",
    "\n",
    "# 4️⃣ Prompt with message placeholder\n",
    "prompt = ChatPromptTemplate.from_messages([\n",
    "        (\"system\", \"You are a helpful assistant that answers using both chat history and provided documents.\"),\n",
    "        MessagesPlaceholder(\"history\"),\n",
    "        (\"human\", \"Context:\\n{context}\\n\\nQuestion: {question}\")\n",
    "    ])"
   ]
  },
  {
   "cell_type": "code",
   "execution_count": 27,
   "id": "47e6f90b",
   "metadata": {},
   "outputs": [],
   "source": [
    "# 5️⃣ Runnable chain\n",
    "chain = (\n",
    "    RunnableMap({\n",
    "        \"history\": lambda _: load_history(),\n",
    "        \"context\": lambda x: retriever.invoke(x[\"question\"]),\n",
    "        \"question\": RunnablePassthrough(),\n",
    "    })\n",
    "    | prompt\n",
    "    | llm\n",
    "    | StrOutputParser()\n",
    ")"
   ]
  },
  {
   "cell_type": "code",
   "execution_count": 28,
   "id": "42ed8990",
   "metadata": {},
   "outputs": [],
   "source": [
    "def ask(question):\n",
    "    response = chain.invoke({\"question\": question})\n",
    "    save_message(question, response)\n",
    "    return response"
   ]
  },
  {
   "cell_type": "code",
   "execution_count": 29,
   "id": "b608bd0c",
   "metadata": {},
   "outputs": [
    {
     "name": "stdout",
     "output_type": "stream",
     "text": [
      "The `download_hugging_face_embeddings` function is defined in the `helper.py` file. Here's what it does:\n",
      "\n",
      "- **Purpose**: It downloads and initializes a Hugging Face sentence transformer model for generating embeddings.\n",
      "- **Implementation**:\n",
      "  ```python\n",
      "  def download_hugging_face_embeddings():\n",
      "      embeddings = HuggingFaceEmbeddings(model_name='sentence-transformers/all-MiniLM-L6-v2')\n",
      "      return embeddings\n",
      "  ```\n",
      "- **Details**:\n",
      "  - It uses the `HuggingFaceEmbeddings` class to load the `sentence-transformers/all-MiniLM-L6-v2` model.\n",
      "  - This model generates embeddings with **384 dimensions**.\n",
      "  - The function returns the initialized embeddings object, which can be used to convert text into vector embeddings.\n",
      "\n",
      "This function is imported and used in the `app.py` file, indicating its role in the application's embedding generation process.\n"
     ]
    }
   ],
   "source": [
    "print(ask(\"what is download_hugging_face_embeddings funtion?\"))"
   ]
  },
  {
   "cell_type": "code",
   "execution_count": 51,
   "id": "554aaab4",
   "metadata": {},
   "outputs": [
    {
     "name": "stdout",
     "output_type": "stream",
     "text": [
      "c:\\Users\\manav\\OneDrive\\Desktop\\Source Code Analysis\n"
     ]
    },
    {
     "name": "stderr",
     "output_type": "stream",
     "text": [
      "c:\\Users\\manav\\anaconda3\\envs\\source\\lib\\site-packages\\IPython\\core\\magics\\osm.py:417: UserWarning: This is now an optional IPython functionality, setting dhist requires you to install the `pickleshare` library.\n",
      "  self.shell.db['dhist'] = compress_dhist(dhist)[-100:]\n"
     ]
    }
   ],
   "source": [
    "%cd .."
   ]
  },
  {
   "cell_type": "code",
   "execution_count": 52,
   "id": "c054d838",
   "metadata": {},
   "outputs": [
    {
     "data": {
      "text/plain": [
       "'c:\\\\Users\\\\manav\\\\OneDrive\\\\Desktop\\\\Source Code Analysis'"
      ]
     },
     "execution_count": 52,
     "metadata": {},
     "output_type": "execute_result"
    }
   ],
   "source": [
    "%pwd"
   ]
  },
  {
   "cell_type": "code",
   "execution_count": 53,
   "id": "74eaa7b1",
   "metadata": {},
   "outputs": [
    {
     "name": "stdout",
     "output_type": "stream",
     "text": [
      "2025-10-28 19:53:45 - Loaded .env file\n",
      "2025-10-28 19:53:47 - Created default config file at c:\\Users\\manav\\OneDrive\\Desktop\\Source Code Analysis\\.chainlit\\config.toml\n",
      "2025-10-28 19:53:47 - Created default translation directory at c:\\Users\\manav\\OneDrive\\Desktop\\Source Code Analysis\\.chainlit\\translations\n",
      "2025-10-28 19:53:47 - Created default translation file at c:\\Users\\manav\\OneDrive\\Desktop\\Source Code Analysis\\.chainlit\\translations\\bn.json\n",
      "2025-10-28 19:53:47 - Created default translation file at c:\\Users\\manav\\OneDrive\\Desktop\\Source Code Analysis\\.chainlit\\translations\\de-DE.json\n",
      "2025-10-28 19:53:47 - Created default translation file at c:\\Users\\manav\\OneDrive\\Desktop\\Source Code Analysis\\.chainlit\\translations\\el-GR.json\n",
      "2025-10-28 19:53:47 - Created default translation file at c:\\Users\\manav\\OneDrive\\Desktop\\Source Code Analysis\\.chainlit\\translations\\en-US.json\n",
      "2025-10-28 19:53:47 - Created default translation file at c:\\Users\\manav\\OneDrive\\Desktop\\Source Code Analysis\\.chainlit\\translations\\es.json\n",
      "2025-10-28 19:53:47 - Created default translation file at c:\\Users\\manav\\OneDrive\\Desktop\\Source Code Analysis\\.chainlit\\translations\\fr-FR.json\n",
      "2025-10-28 19:53:47 - Created default translation file at c:\\Users\\manav\\OneDrive\\Desktop\\Source Code Analysis\\.chainlit\\translations\\gu.json\n",
      "2025-10-28 19:53:47 - Created default translation file at c:\\Users\\manav\\OneDrive\\Desktop\\Source Code Analysis\\.chainlit\\translations\\he-IL.json\n",
      "2025-10-28 19:53:47 - Created default translation file at c:\\Users\\manav\\OneDrive\\Desktop\\Source Code Analysis\\.chainlit\\translations\\hi.json\n",
      "2025-10-28 19:53:47 - Created default translation file at c:\\Users\\manav\\OneDrive\\Desktop\\Source Code Analysis\\.chainlit\\translations\\ja.json\n",
      "2025-10-28 19:53:47 - Created default translation file at c:\\Users\\manav\\OneDrive\\Desktop\\Source Code Analysis\\.chainlit\\translations\\kn.json\n",
      "2025-10-28 19:53:47 - Created default translation file at c:\\Users\\manav\\OneDrive\\Desktop\\Source Code Analysis\\.chainlit\\translations\\ko.json\n",
      "2025-10-28 19:53:47 - Created default translation file at c:\\Users\\manav\\OneDrive\\Desktop\\Source Code Analysis\\.chainlit\\translations\\ml.json\n",
      "2025-10-28 19:53:47 - Created default translation file at c:\\Users\\manav\\OneDrive\\Desktop\\Source Code Analysis\\.chainlit\\translations\\mr.json\n",
      "2025-10-28 19:53:47 - Created default translation file at c:\\Users\\manav\\OneDrive\\Desktop\\Source Code Analysis\\.chainlit\\translations\\nl.json\n",
      "2025-10-28 19:53:47 - Created default translation file at c:\\Users\\manav\\OneDrive\\Desktop\\Source Code Analysis\\.chainlit\\translations\\ta.json\n",
      "2025-10-28 19:53:47 - Created default translation file at c:\\Users\\manav\\OneDrive\\Desktop\\Source Code Analysis\\.chainlit\\translations\\te.json\n",
      "2025-10-28 19:53:47 - Created default translation file at c:\\Users\\manav\\OneDrive\\Desktop\\Source Code Analysis\\.chainlit\\translations\\zh-CN.json\n",
      "2025-10-28 19:53:47 - Created default translation file at c:\\Users\\manav\\OneDrive\\Desktop\\Source Code Analysis\\.chainlit\\translations\\zh-TW.json\n",
      "2025-10-28 19:53:49 - Config file already exists at c:\\Users\\manav\\OneDrive\\Desktop\\Source Code Analysis\\.chainlit\\config.toml\n"
     ]
    }
   ],
   "source": [
    "!chainlit init"
   ]
  },
  {
   "cell_type": "code",
   "execution_count": null,
   "id": "6ddbf22b",
   "metadata": {},
   "outputs": [],
   "source": []
  }
 ],
 "metadata": {
  "kernelspec": {
   "display_name": "source",
   "language": "python",
   "name": "python3"
  },
  "language_info": {
   "codemirror_mode": {
    "name": "ipython",
    "version": 3
   },
   "file_extension": ".py",
   "mimetype": "text/x-python",
   "name": "python",
   "nbconvert_exporter": "python",
   "pygments_lexer": "ipython3",
   "version": "3.10.19"
  }
 },
 "nbformat": 4,
 "nbformat_minor": 5
}
